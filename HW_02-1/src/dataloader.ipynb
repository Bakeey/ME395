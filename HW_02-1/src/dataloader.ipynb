{
 "cells": [
  {
   "attachments": {},
   "cell_type": "markdown",
   "metadata": {},
   "source": [
    "## Chichi Earthquake Data"
   ]
  },
  {
   "cell_type": "code",
   "execution_count": 37,
   "metadata": {
    "collapsed": true,
    "pycharm": {
     "is_executing": true,
     "name": "#%%\n"
    }
   },
   "outputs": [
    {
     "name": "stdout",
     "output_type": "stream",
     "text": [
      "11\n",
      "{'Euler_FW': array([  0., -50.,  50.]), 'Euler_BW': array([-50.,  50.,   0.]), 'Central_Difference': array([-25.,   0.,  25.])}\n"
     ]
    }
   ],
   "source": [
    "import pandas as pd\n",
    "import numpy as np\n",
    "\n",
    "df_chichi = pd.read_excel(\"./SeismicWave.xlsx\", header = 1, usecols=\"A:D\", nrows=866)\n",
    "\n",
    "df_chichi\n",
    "\n",
    "print(np.dot([1,5],[1,2]))\n",
    "\n",
    "def return_filters(dt: float = 0.02) -> dict:\n",
    "    \"\"\"A dict of different filters\"\"\"\n",
    "    filters = {\n",
    "        'Euler_FW': np.array([0,-1,1]) / dt,\n",
    "        'Euler_BW': np.array([-1,1,0]) / dt,\n",
    "        'Central_Difference': np.array([-1,0,1]) / (2*dt)\n",
    "    }\n",
    "    return filters\n",
    "\n",
    "print(return_filters())\n"
   ]
  },
  {
   "cell_type": "markdown",
   "metadata": {
    "collapsed": false,
    "pycharm": {
     "name": "#%%\n"
    }
   },
   "source": [
    "## Imperial Valley Data"
   ]
  },
  {
   "cell_type": "code",
   "execution_count": 17,
   "metadata": {},
   "outputs": [
    {
     "data": {
      "text/html": [
       "<div>\n",
       "<style scoped>\n",
       "    .dataframe tbody tr th:only-of-type {\n",
       "        vertical-align: middle;\n",
       "    }\n",
       "\n",
       "    .dataframe tbody tr th {\n",
       "        vertical-align: top;\n",
       "    }\n",
       "\n",
       "    .dataframe thead th {\n",
       "        text-align: right;\n",
       "    }\n",
       "</style>\n",
       "<table border=\"1\" class=\"dataframe\">\n",
       "  <thead>\n",
       "    <tr style=\"text-align: right;\">\n",
       "      <th></th>\n",
       "      <th>t (s).1</th>\n",
       "      <th>displacement (m).1</th>\n",
       "      <th>velocity (m/s).1</th>\n",
       "      <th>acceleration (m/s2).1</th>\n",
       "    </tr>\n",
       "  </thead>\n",
       "  <tbody>\n",
       "    <tr>\n",
       "      <th>0</th>\n",
       "      <td>0.00</td>\n",
       "      <td>0.000000e+00</td>\n",
       "      <td>NaN</td>\n",
       "      <td>NaN</td>\n",
       "    </tr>\n",
       "    <tr>\n",
       "      <th>1</th>\n",
       "      <td>0.02</td>\n",
       "      <td>0.000000e+00</td>\n",
       "      <td>NaN</td>\n",
       "      <td>NaN</td>\n",
       "    </tr>\n",
       "    <tr>\n",
       "      <th>2</th>\n",
       "      <td>0.04</td>\n",
       "      <td>-2.024291e-07</td>\n",
       "      <td>NaN</td>\n",
       "      <td>NaN</td>\n",
       "    </tr>\n",
       "    <tr>\n",
       "      <th>3</th>\n",
       "      <td>0.06</td>\n",
       "      <td>-1.417004e-06</td>\n",
       "      <td>NaN</td>\n",
       "      <td>NaN</td>\n",
       "    </tr>\n",
       "    <tr>\n",
       "      <th>4</th>\n",
       "      <td>0.08</td>\n",
       "      <td>-5.465587e-06</td>\n",
       "      <td>NaN</td>\n",
       "      <td>NaN</td>\n",
       "    </tr>\n",
       "    <tr>\n",
       "      <th>...</th>\n",
       "      <td>...</td>\n",
       "      <td>...</td>\n",
       "      <td>...</td>\n",
       "      <td>...</td>\n",
       "    </tr>\n",
       "    <tr>\n",
       "      <th>993</th>\n",
       "      <td>19.86</td>\n",
       "      <td>-8.012146e-04</td>\n",
       "      <td>NaN</td>\n",
       "      <td>NaN</td>\n",
       "    </tr>\n",
       "    <tr>\n",
       "      <th>994</th>\n",
       "      <td>19.88</td>\n",
       "      <td>-7.585020e-04</td>\n",
       "      <td>NaN</td>\n",
       "      <td>NaN</td>\n",
       "    </tr>\n",
       "    <tr>\n",
       "      <th>995</th>\n",
       "      <td>19.90</td>\n",
       "      <td>-7.180162e-04</td>\n",
       "      <td>NaN</td>\n",
       "      <td>NaN</td>\n",
       "    </tr>\n",
       "    <tr>\n",
       "      <th>996</th>\n",
       "      <td>19.92</td>\n",
       "      <td>-6.801619e-04</td>\n",
       "      <td>NaN</td>\n",
       "      <td>NaN</td>\n",
       "    </tr>\n",
       "    <tr>\n",
       "      <th>997</th>\n",
       "      <td>19.94</td>\n",
       "      <td>-6.451417e-04</td>\n",
       "      <td>NaN</td>\n",
       "      <td>NaN</td>\n",
       "    </tr>\n",
       "  </tbody>\n",
       "</table>\n",
       "<p>998 rows × 4 columns</p>\n",
       "</div>"
      ],
      "text/plain": [
       "     t (s).1  displacement (m).1  velocity (m/s).1  acceleration (m/s2).1\n",
       "0       0.00        0.000000e+00               NaN                    NaN\n",
       "1       0.02        0.000000e+00               NaN                    NaN\n",
       "2       0.04       -2.024291e-07               NaN                    NaN\n",
       "3       0.06       -1.417004e-06               NaN                    NaN\n",
       "4       0.08       -5.465587e-06               NaN                    NaN\n",
       "..       ...                 ...               ...                    ...\n",
       "993    19.86       -8.012146e-04               NaN                    NaN\n",
       "994    19.88       -7.585020e-04               NaN                    NaN\n",
       "995    19.90       -7.180162e-04               NaN                    NaN\n",
       "996    19.92       -6.801619e-04               NaN                    NaN\n",
       "997    19.94       -6.451417e-04               NaN                    NaN\n",
       "\n",
       "[998 rows x 4 columns]"
      ]
     },
     "execution_count": 17,
     "metadata": {},
     "output_type": "execute_result"
    }
   ],
   "source": [
    "df_imperial = pd.read_excel(\"./SeismicWave.xlsx\", header = 1, usecols=\"F:I\")\n",
    "\n",
    "df_imperial"
   ]
  }
 ],
 "metadata": {
  "kernelspec": {
   "display_name": "Python 3",
   "language": "python",
   "name": "python3"
  },
  "language_info": {
   "codemirror_mode": {
    "name": "ipython",
    "version": 3
   },
   "file_extension": ".py",
   "mimetype": "text/x-python",
   "name": "python",
   "nbconvert_exporter": "python",
   "pygments_lexer": "ipython3",
   "version": "3.10.11"
  }
 },
 "nbformat": 4,
 "nbformat_minor": 0
}
