{
 "cells": [
  {
   "attachments": {},
   "cell_type": "markdown",
   "metadata": {},
   "source": [
    "# River Flow with Discrete Calculus Integration"
   ]
  },
  {
   "attachments": {},
   "cell_type": "markdown",
   "metadata": {},
   "source": [
    "### (a) Analytic Area Computation\n",
    "\n",
    "See handwritten homework. Analytical cross-sectional river area was computed as:\n",
    "$$A_{\\textrm{analytical}} = 21.6\\bar{6}\\,\\mathrm{m}^2$$\n",
    "\n",
    "### (b) Numerical Area Computation\n",
    "\n",
    "Using given table:\n",
    "| $i$ | 0 | 1 | 2 | 3 | 4 | 5 | 6 | $n=7$ |\n",
    "| :--- | :--- | :--- | :--- | :--- | :--- | :--- | :--- | :--- |\n",
    "| $y_i\\,[\\textrm{m}]$ | 0 | 1 | 3 | 5 | 7 | 8 | 9 | 10 |\n",
    "| $H_i\\,[\\textrm{m}]$ | 0 | 1 | 1.2 | 3 | 3.5 | 3.2 | 2 | 0 |\n",
    "| $U_i\\,[\\frac{\\textrm{m}}{\\textrm{s}}]$ | 0 | 0.1 | 0.15 | 0.2 | 0.25 | 0.3 | 0.15 | 0 |"
   ]
  },
  {
   "cell_type": "code",
   "execution_count": 1,
   "metadata": {},
   "outputs": [],
   "source": [
    "## Imports\n",
    "import numpy as np\n",
    "\n",
    "## Allocate Discrete Data\n",
    "y = np.array([0,1,3,5,7,8,9,10])\n",
    "H = np.array([0,1,1.2,3,3.5,3.2,2,0])\n",
    "U = np.array([0,0.1,0.15,0.2,0.25,0.3,0.15,0])"
   ]
  },
  {
   "attachments": {},
   "cell_type": "markdown",
   "metadata": {},
   "source": [
    "Use trapezoidal method:\n",
    "$$A \\approx \\sum_{i=0}^{n-1} \\frac{(y_{i+1}-y_{i})}{2}\\cdot(H_{i+1}+H_{i})$$"
   ]
  },
  {
   "cell_type": "code",
   "execution_count": 2,
   "metadata": {},
   "outputs": [
    {
     "name": "stdout",
     "output_type": "stream",
     "text": [
      "Area computed using trapezoidal rule in m^2:  20.35\n"
     ]
    }
   ],
   "source": [
    "def trapezoidal_filter(y_current: float, y_next:float) -> np.ndarray:\n",
    "    \"\"\"Returns a 1D trapezoidal integration filter\"\"\"\n",
    "    assert( y_next > y_current )\n",
    "    return np.array([0.5,0.5])*(y_next - y_current)\n",
    "\n",
    "def trapezoidal_integration(x: np.ndarray, F: np.ndarray) -> float:\n",
    "    \"\"\"Integrated a function F over a given discrete domain x using trapezoidal integration\"\"\"\n",
    "    stride = 1\n",
    "    area_trapezoidal = 0\n",
    "\n",
    "    ## Perform convolution:\n",
    "    for ii in range(0, len(x)-1, stride):\n",
    "        area_trapezoidal += np.dot( trapezoidal_filter(x[ii],x[ii+1]), F[ii:ii+1+stride] )\n",
    "    return area_trapezoidal\n",
    "\n",
    "print(\"Area computed using trapezoidal rule in m^2: \", trapezoidal_integration(y, H))"
   ]
  },
  {
   "attachments": {},
   "cell_type": "markdown",
   "metadata": {},
   "source": [
    "Use simpson method:\n",
    "\n",
    "Using the classical Simpson rule is only possible for even data spacing. Since the data provided in unevenly spaced, we must use the alternative [Composite Simpson's rule](https://en.wikipedia.org/wiki/Simpson%27s_rule#Composite_Simpson's_rule_for_irregularly_spaced_data)."
   ]
  },
  {
   "cell_type": "code",
   "execution_count": 3,
   "metadata": {},
   "outputs": [
    {
     "name": "stdout",
     "output_type": "stream",
     "text": [
      "Area computed using simpsons rule in m^2:  21.45\n"
     ]
    }
   ],
   "source": [
    "def simpson_integration(x: np.ndarray, F: np.ndarray) -> float:\n",
    "    \"\"\"Integrated a function F over a given discrete domain x using composite Simpson integration.\n",
    "    Using modified code from https://en.wikipedia.org/wiki/Simpson%27s_rule\"\"\"\n",
    "    stride = 2\n",
    "    area_simpson = 0\n",
    "\n",
    "    h = [x[i + 1] - x[i] for i in range(0, len(x)-1)]\n",
    "    assert len(x)-1 > 0\n",
    "\n",
    "    for i in range(1, len(x)-1, stride):\n",
    "        h0, h1 = h[i - 1], h[i]\n",
    "        hph, hdh, hmh = h1 + h0, h1 / h0, h1 * h0\n",
    "        area_simpson += (hph / 6) * (\n",
    "            (2 - hdh) * F[i - 1] + (hph**2 / hmh) * F[i] + (2 - 1 / hdh) * F[i + 1]\n",
    "        )\n",
    "\n",
    "    if (len(x)-1) % 2 == 1:\n",
    "        h0, h1 =  h[len(x)-3], h[len(x)-2]\n",
    "        area_simpson += F[len(x)-1] * (2 * h1 ** 2 + 3 * h0 * h1) / (6 * (h0 + h1))\n",
    "        area_simpson += F[len(x)-2] * (h1 ** 2 + 3 * h1 * h0)     / (6 * h0)\n",
    "        area_simpson -= F[len(x)-3] * h1 ** 3                     / (6 * h0 * (h0 + h1))\n",
    "    return area_simpson\n",
    "\n",
    "print(\"Area computed using simpsons rule in m^2: \", simpson_integration(y, H))\n"
   ]
  },
  {
   "attachments": {},
   "cell_type": "markdown",
   "metadata": {},
   "source": [
    "We can compare our results as follows and see that Simpson's rule is more accurate than Trapezoidal:\n",
    "\n",
    "$$A_{\\textrm{analytical}} = 21.6\\bar{6}\\,\\mathrm{m}^2$$\n",
    "$$A_{\\textrm{trapezoidal}} \\approx 20.35\\,\\mathrm{m}^2$$\n",
    "$$A_{\\textrm{simpson}} \\approx 21.45\\,\\mathrm{m}^2$$\n",
    "\n",
    "We do not perform Gauss' method due to missing exact quadrature points.\n",
    "\n",
    "### (c) Numerical Flow Rate Computation\n",
    "\n",
    "Use previous methods again with modified argument:\n",
    "$$Q = \\int_0^{10} H(y)\\cdot U(y) dy \\approx \\sum_{i=0}^{n-1} \\frac{(y_{i+1}-y_{i})}{2}\\cdot\\large(\\left(H_{i+1}\\cdot U_{i+1}\\right)+\\left(H_{i}\\cdot U_{i}\\right)\\large)$$\n"
   ]
  },
  {
   "cell_type": "code",
   "execution_count": 4,
   "metadata": {},
   "outputs": [
    {
     "name": "stdout",
     "output_type": "stream",
     "text": [
      "Flow rate computed using trapezoidal rule:  4.282500000000001\n",
      "Flow rate computed using simpsons rule:  4.455\n"
     ]
    }
   ],
   "source": [
    "print(\"Flow rate computed using trapezoidal rule: \", trapezoidal_integration(y, np.multiply(H,U)))\n",
    "print(\"Flow rate computed using simpsons rule: \", simpson_integration(y, np.multiply(H,U)))"
   ]
  },
  {
   "attachments": {},
   "cell_type": "markdown",
   "metadata": {},
   "source": [
    "$$Q_{\\textrm{trapezoidal}} = 4.2825$$\n",
    "$$Q_{\\textrm{simpson}} = 4.455$$"
   ]
  }
 ],
 "metadata": {
  "kernelspec": {
   "display_name": "Python 3",
   "language": "python",
   "name": "python3"
  },
  "language_info": {
   "codemirror_mode": {
    "name": "ipython",
    "version": 3
   },
   "file_extension": ".py",
   "mimetype": "text/x-python",
   "name": "python",
   "nbconvert_exporter": "python",
   "pygments_lexer": "ipython3",
   "version": "3.10.11"
  },
  "orig_nbformat": 4
 },
 "nbformat": 4,
 "nbformat_minor": 2
}
