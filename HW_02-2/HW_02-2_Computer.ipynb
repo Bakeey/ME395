{
 "cells": [
  {
   "attachments": {},
   "cell_type": "markdown",
   "metadata": {},
   "source": [
    "# Computer HW2\n",
    "## (a) Derive the discrete calculus integration filter for 4th order polynomial"
   ]
  },
  {
   "cell_type": "code",
   "execution_count": 1,
   "metadata": {},
   "outputs": [],
   "source": [
    "## Imports\n",
    "import numpy as np\n",
    "\n",
    "## Allocate Discrete Data\n",
    "n = 15 # Simpsons rule requires odd n\n",
    "x = np.linspace(-1, 1, num=n)\n",
    "F = np.power(x,4)+3*np.power(x,2)"
   ]
  },
  {
   "attachments": {},
   "cell_type": "markdown",
   "metadata": {},
   "source": [
    "### Use trapezoidal method:\n",
    "\n",
    "$$I \\approx \\sum_{i=0}^{n-1} \\frac{(x_{i+1}-x_{i})}{2}\\cdot(f(x_{i+1})+f(x_{i}))$$\n",
    "\n",
    "The filter is then ($\\Delta x$ being the constant linear spacing between function evaluation points and $*$ denoting the convolution operation): $$\\begin{bmatrix}\n",
    "\\frac{\\Delta x}{2} & \\frac{\\Delta x}{2}\n",
    "\\end{bmatrix} * \n",
    "\\begin{bmatrix}\n",
    "f(x_{1}) & f(x_{2}) & \\ldots & f(x_{N})\n",
    "\\end{bmatrix}$$"
   ]
  },
  {
   "cell_type": "code",
   "execution_count": 2,
   "metadata": {},
   "outputs": [
    {
     "name": "stdout",
     "output_type": "stream",
     "text": [
      "Integral computed using trapezoidal rule:  2.433985839233653\n"
     ]
    }
   ],
   "source": [
    "def trapezoidal_filter(x_current: float, x_next:float) -> np.ndarray:\n",
    "    \"\"\"Returns a 1D trapezoidal integration filter\"\"\"\n",
    "    assert( x_next > x_current )\n",
    "    return np.array([0.5,0.5])*(x_next - x_current)\n",
    "\n",
    "def trapezoidal_integration(x: np.ndarray, F: np.ndarray) -> float:\n",
    "    \"\"\"Integrates a function F over a given discrete domain x using trapezoidal integration\"\"\"\n",
    "    stride = 1\n",
    "    integral_trapezoidal = 0\n",
    "\n",
    "    ## Perform convolution:\n",
    "    for ii in range(0, len(x)-1, stride):\n",
    "        integral_trapezoidal += np.dot( trapezoidal_filter(x[ii],x[ii+1]), F[ii:ii+1+stride] )\n",
    "    return integral_trapezoidal\n",
    "\n",
    "print(\"Integral computed using trapezoidal rule: \", trapezoidal_integration(x, F))"
   ]
  },
  {
   "attachments": {},
   "cell_type": "markdown",
   "metadata": {},
   "source": [
    "### Use Simpsons method:\n",
    "\n",
    "$$I = \\sum_{i=1,\\textrm{ stride 2}}^{n-1} \\frac{(x_{i+1}-x_{i-1})}{6}\\cdot(f(x_{i+1})+4\\cdot f(x_{i})+ f(x_{i-1}))$$\n",
    "\n",
    "The filter is then ($\\Delta x$ being the constant linear spacing between function evaluation points and $*$ denoting the convolution operation with stride 2): \n",
    "$$\\begin{bmatrix}\n",
    "\\frac{\\Delta x}{3} & 4\\cdot \\frac{\\Delta x}{3} & \\frac{\\Delta x}{3}\n",
    "\\end{bmatrix} * \n",
    "\\begin{bmatrix}\n",
    "f(x_{1}) & f(x_{2}) & \\ldots & f(x_{N})\n",
    "\\end{bmatrix}$$"
   ]
  },
  {
   "cell_type": "code",
   "execution_count": 3,
   "metadata": {},
   "outputs": [
    {
     "name": "stdout",
     "output_type": "stream",
     "text": [
      "Integral computed using Simpsons rule:  2.4001110648340975\n"
     ]
    }
   ],
   "source": [
    "def simpson_filter(x_previous: float, x_current: float, x_next:float) -> np.ndarray:\n",
    "    \"\"\"Returns a 1D simpson integration filter\"\"\"\n",
    "    assert( x_next > x_current > x_previous )\n",
    "    return np.array([1/3, 4/3, 1/3])*(x_next - x_current)\n",
    "\n",
    "def simpson_integration(x: np.ndarray, F: np.ndarray) -> float:\n",
    "    \"\"\"Integrates a function F over a given discrete domain x using Simpson integration.\"\"\"\n",
    "    stride = 2\n",
    "    integral_simpson = 0\n",
    "\n",
    "    ## Perform convolution:\n",
    "    for ii in range(1, len(x), stride):\n",
    "        integral_simpson += np.dot( simpson_filter(x[ii-1],x[ii],x[ii+1]), F[ii-1:ii+stride] )\n",
    "    return integral_simpson\n",
    "\n",
    "print(\"Integral computed using Simpsons rule: \", simpson_integration(x, F))"
   ]
  },
  {
   "attachments": {},
   "cell_type": "markdown",
   "metadata": {},
   "source": [
    "### Use Gauss method:\n",
    "\n",
    "As seen in the lecture, $n=2$ point Gauss quadrature is accurate for polynomials of order $2n-1=3$ or less. In order to integrate the given 4th-order polynomial correctly, we need $n=3$ quadrature points and weights. The exact location can be computed using a system of equations, but are well-known for low $n$. \n",
    "\n",
    "For $n=3$, the quadrature points are (see [Wikipedia](https://en.wikipedia.org/wiki/Gaussian_quadrature#Gauss%E2%80%93Legendre_quadrature)):\n",
    "\n",
    "$$(w_i,x_i) = \\{ (\\frac{5}{9}, -\\sqrt{\\frac{3}{5}}),(\\frac{8}{9}, 0),(\\frac{5}{9}, +\\sqrt{\\frac{3}{5}}) \\} $$\n",
    "\n",
    "and the filter is then (integral domain is $[-1,1]$ so no change of variables necessary):\n",
    "$$\\begin{bmatrix}\n",
    "0 & \\frac{5}{9} & \\frac{8}{9} & \\frac{5}{9} & 0\n",
    "\\end{bmatrix} * \n",
    "\\begin{bmatrix}\n",
    "f(-1) & f(-\\sqrt{\\frac{3}{5}}) & f(0) & + f(\\sqrt{\\frac{3}{5}}) & f(1)\n",
    "\\end{bmatrix}$$"
   ]
  },
  {
   "cell_type": "code",
   "execution_count": 4,
   "metadata": {},
   "outputs": [
    {
     "name": "stdout",
     "output_type": "stream",
     "text": [
      "Integral computed using Gauss rule:  2.4000000000000004\n"
     ]
    }
   ],
   "source": [
    "def gauss_filter(x_0: float = -1, x_n: float = 1) -> np.ndarray:\n",
    "    \"\"\"Returns a 1D gauss integration filter\"\"\"\n",
    "    return np.array([0, 5, 8, 5, 0]) / 9\n",
    "\n",
    "def gauss_integration(x: np.ndarray, F: np.ndarray) -> float:\n",
    "    \"\"\"Integrates a function F over a given discrete domain x using Gauss integration.\"\"\"\n",
    "    stride = 0\n",
    "    integral_gauss = 0\n",
    "\n",
    "    ## Perform convolution:\n",
    "    for ii in range(1):\n",
    "        integral_gauss += np.dot( gauss_filter(), F )\n",
    "    return integral_gauss\n",
    "\n",
    "x_gauss = np.array([-1, -np.sqrt(3/5), 0, np.sqrt(3/5), 1])\n",
    "F_gauss = np.power(x_gauss,4)+3*np.power(x_gauss,2)\n",
    "\n",
    "print(\"Integral computed using Gauss rule: \", gauss_integration(x_gauss, F_gauss))"
   ]
  },
  {
   "attachments": {},
   "cell_type": "markdown",
   "metadata": {},
   "source": [
    "## (b) compute the integral using the derived discrete calculus integration filter and compare with the analytical result\n",
    "\n",
    "We can compute the integral analytically:\n",
    "\n",
    "$$\n",
    "\\begin{aligned}\n",
    "& \\int_{-1}^1 x^4+3 x^2 d x=\\left[\\frac{1}{5} x^5+\\frac{3}{3} x^3\\right]_{-1}^1 \\\\\n",
    "& {\\left[\\frac{1}{5} x^5+\\frac{3}{3} x^3\\right]_{-1}^1=\\left(\\frac{1}{5}(1)^5+\\frac{3}{3}(1)^3\\right)-\\left(\\frac{1}{5}(-1)^5+\\frac{3}{3}(-1)^3\\right)} \\\\\n",
    "& \\left(\\frac{1}{5}+\\frac{3}{3}\\right)-\\left(-\\frac{1}{5}-\\frac{3}{3}\\right)=\\frac{12}{5} = 2.4\n",
    "\\end{aligned}\n",
    "$$\n",
    "\n",
    "We can compare our results as follows from the previous computations and see that 3-point Gauss quadrature retrieves the exact integral as expected, while Simpson and trapezoidal have some error in them."
   ]
  },
  {
   "cell_type": "code",
   "execution_count": 5,
   "metadata": {},
   "outputs": [
    {
     "name": "stdout",
     "output_type": "stream",
     "text": [
      "Integral computed using Trapezoidal rule:  2.433985839233653\n",
      "Integral computed using Simpsons rule:  2.4001110648340975\n",
      "Integral computed using Gauss rule:  2.4000000000000004\n"
     ]
    }
   ],
   "source": [
    "print(\"Integral computed using Trapezoidal rule: \", trapezoidal_integration(x, F))\n",
    "print(\"Integral computed using Simpsons rule: \", simpson_integration(x, F))\n",
    "print(\"Integral computed using Gauss rule: \", gauss_integration(x_gauss, F_gauss))"
   ]
  },
  {
   "attachments": {},
   "cell_type": "markdown",
   "metadata": {},
   "source": [
    "Remember we used $n=15$, so $\\Delta x = 0.1\\overline{3}$. Generally, the error in trapezoidal integration is [third order in $\\Delta x$](https://en.wikipedia.org/wiki/Trapezoidal_rule#Error_analysis) and the error in Simpsons integration is [fifth order in $\\Delta x$](https://en.wikipedia.org/wiki/Simpson%27s_rule#Simpson's_1/3_rule).\n",
    "\n",
    "$$I_{\\textrm{analytical}} = 2.4$$\n",
    "$$I_{\\textrm{trapezoidal}} = 2.433985$$\n",
    "$$I_{\\textrm{simpson}} = 2.400111$$\n",
    "$$I_{\\textrm{gauss}} = 2.400000$$\n",
    "\n",
    "## (c) Diverging integral shenanigans\n",
    "\n",
    "We compute the analytical solution of the given integral:\n",
    "\n",
    "$$\\int_{-1}^1 \\frac{1}{x+1.1} dx = \\int_{0.1}^{2.1} \\frac{1}{u} du = \\ln{2.1} - \\ln{0.1} = 3.044522$$\n",
    "\n",
    "We compute the integrals numerically in each subdomain numerically, then sum and compare:"
   ]
  },
  {
   "cell_type": "code",
   "execution_count": 6,
   "metadata": {},
   "outputs": [
    {
     "name": "stdout",
     "output_type": "stream",
     "text": [
      "Integral computed using Trapezoidal rule:  3.0512561973305177\n",
      "Integral computed using Simpsons rule:  3.044711667014311\n",
      "Integral computed using Gauss rule:  3.037769562154289\n"
     ]
    }
   ],
   "source": [
    "subdomains = np.array([-1, -0.6, -0.2, 0.2, 0.6, 1])\n",
    "\n",
    "integral_trapezoid = 0\n",
    "integral_simpson = 0\n",
    "integral_gauss = 0\n",
    "\n",
    "def f(x: np.ndarray) -> np.ndarray:\n",
    "    return 1/(x+1.1)\n",
    "\n",
    "for start, end in zip(subdomains[0:],subdomains[1:]):\n",
    "    x_subdomain = np.linspace(start, end, num=n)\n",
    "    integral_trapezoid += trapezoidal_integration(x_subdomain, f(x_subdomain))\n",
    "    integral_simpson += simpson_integration(x_subdomain, f(x_subdomain))\n",
    "\n",
    "    # Adjust integral bounds for Gauss quadrature (change of variables): \n",
    "    # x = (start+end)/2 - (end-start)/2 * zeta\n",
    "    # zeta in [-1, 1]\n",
    "    integral_gauss += gauss_integration(x_gauss, f(x_gauss*(end-start)/2 + (start+end)/2)) * 0.4/2\n",
    "\n",
    "print(\"Integral computed using Trapezoidal rule: \", integral_trapezoid)\n",
    "print(\"Integral computed using Simpsons rule: \", integral_simpson)\n",
    "print(\"Integral computed using Gauss rule: \", integral_gauss)"
   ]
  },
  {
   "attachments": {},
   "cell_type": "markdown",
   "metadata": {},
   "source": [
    "$$I_{\\textrm{analytical}} = 3.044522$$\n",
    "$$I_{\\textrm{trapezoidal}} = 3.051256$$\n",
    "$$I_{\\textrm{simpson}} = 3.044712$$\n",
    "$$I_{\\textrm{gauss}} = 3.037770$$\n",
    "\n",
    "We see that the is some error to all methods. The reason is that our function is diverging and has a singularity in $x=-1.1$, so it is already greatly diverging around $x=-1$.\n",
    "\n",
    "Surprisingly, we see that Simpsons rule does perform better than Gauss quadrature. The reason for this is that the implemented code further subdivides the subintervals into $n=15$ subsubintervals, meaning that our Simpsons (and trapezoidal) scheme actually integrates over $5\\cdot 15=75$ subsubdomains! \n",
    "\n",
    "Thus, Simpsons rule fits a quadratic curve into all 75 subsubdomains, which in this case is more accurate than our 3-point Gauss quadrature rule, which fits a fifth-order polynomial into only 5 subdomains."
   ]
  }
 ],
 "metadata": {
  "kernelspec": {
   "display_name": "Python 3",
   "language": "python",
   "name": "python3"
  },
  "language_info": {
   "codemirror_mode": {
    "name": "ipython",
    "version": 3
   },
   "file_extension": ".py",
   "mimetype": "text/x-python",
   "name": "python",
   "nbconvert_exporter": "python",
   "pygments_lexer": "ipython3",
   "version": "3.10.11"
  },
  "orig_nbformat": 4
 },
 "nbformat": 4,
 "nbformat_minor": 2
}
